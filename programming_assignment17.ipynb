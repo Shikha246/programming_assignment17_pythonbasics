{
 "cells": [
  {
   "cell_type": "markdown",
   "id": "2a47514a",
   "metadata": {},
   "source": [
    "Question1. Create a function that takes three arguments a, b, c and returns the sum of the numbers that are evenly divided by c from the range a, b inclusive.\n",
    "\n",
    "Examples\n",
    "\n",
    "evenly_divisible(1, 10, 20) ➞ 0\n",
    "\n",
    "No number between 1 and 10 can be evenly divided by 20.\n",
    "\n",
    "evenly_divisible(1, 10, 2) ➞ 30\n",
    "\n",
    "#2 + 4 + 6 + 8 + 10 = 30\n",
    "\n",
    "evenly_divisible(1, 10, 3) ➞ 18\n",
    "\n",
    "#3 + 6 + 9 = 18"
   ]
  },
  {
   "cell_type": "code",
   "execution_count": 11,
   "id": "0ee30051",
   "metadata": {},
   "outputs": [],
   "source": [
    "def evenly_divisible(a,b,c):\n",
    "    sum=0\n",
    "\n",
    "    for i in range(a,b+1):\n",
    "        if i%c == 0:\n",
    "            sum=sum+i\n",
    "            \n",
    "    return sum\n",
    "\n",
    "        \n",
    "    "
   ]
  },
  {
   "cell_type": "code",
   "execution_count": 12,
   "id": "f27fe1d7",
   "metadata": {},
   "outputs": [
    {
     "data": {
      "text/plain": [
       "18"
      ]
     },
     "execution_count": 12,
     "metadata": {},
     "output_type": "execute_result"
    }
   ],
   "source": [
    "evenly_divisible(1,10,3)"
   ]
  },
  {
   "cell_type": "markdown",
   "id": "d924f7b3",
   "metadata": {},
   "source": [
    "Question2. Create a function that returns True if a given inequality expression is correct and False otherwise.\n",
    "\n",
    "Examples\n",
    "\n",
    "correct_signs(&quot;3 &lt; 7 &lt; 11&quot;) ➞ True\n",
    "\n",
    "correct_signs(&quot;13 &gt; 44 &gt; 33 &gt; 1&quot;) ➞ False\n",
    "\n",
    "correct_signs(&quot;1 &lt; 2 &lt; 6 &lt; 9 &gt; 3&quot;) ➞ True"
   ]
  },
  {
   "cell_type": "code",
   "execution_count": 1,
   "id": "e74113a2",
   "metadata": {},
   "outputs": [
    {
     "data": {
      "text/plain": [
       "False"
      ]
     },
     "execution_count": 1,
     "metadata": {},
     "output_type": "execute_result"
    }
   ],
   "source": [
    "def correct_signs(c):\n",
    "    return eval(c)\n",
    "correct_signs(\"13 > 44 > 33 > 1\")"
   ]
  },
  {
   "cell_type": "code",
   "execution_count": null,
   "id": "f9c02ee0",
   "metadata": {},
   "outputs": [],
   "source": []
  },
  {
   "cell_type": "markdown",
   "id": "fa445f00",
   "metadata": {},
   "source": [
    "Question3. Create a function that replaces all the vowels in a string with a specified character.\n",
    "\n",
    "Examples\n",
    "\n",
    "replace_vowels(&quot;the aardvark&quot;, &quot;#&quot;) ➞ &quot;th# ##rdv#rk&quot;\n",
    "\n",
    "replace_vowels(&quot;minnie mouse&quot;, &quot;?&quot;) ➞ &quot;m?nn?? m??s?&quot;\n",
    "\n",
    "replace_vowels(&quot;shakespeare&quot;, &quot; * &quot;) ➞ &quot; sh * k * sp**r* &quot;"
   ]
  },
  {
   "cell_type": "code",
   "execution_count": 18,
   "id": "0c64048f",
   "metadata": {},
   "outputs": [],
   "source": [
    "def replace_vowels(c,d):\n",
    "    vowels=['a','e','i','o','u']\n",
    "    for i in c:\n",
    "        if i in vowels:\n",
    "            c=c.replace(i, \"#\")\n",
    "    return c"
   ]
  },
  {
   "cell_type": "code",
   "execution_count": 19,
   "id": "76443402",
   "metadata": {},
   "outputs": [
    {
     "data": {
      "text/plain": [
       "'th# ##rdv#rk'"
      ]
     },
     "execution_count": 19,
     "metadata": {},
     "output_type": "execute_result"
    }
   ],
   "source": [
    "replace_vowels(\"the aardvark\", \"#\")"
   ]
  },
  {
   "cell_type": "markdown",
   "id": "a9bff7f5",
   "metadata": {},
   "source": [
    "Question4. Write a function that calculates the factorial of a number recursively.\n",
    "\n",
    "Examples\n",
    "\n",
    "factorial(5) ➞ 120\n",
    "\n",
    "factorial(3) ➞ 6\n",
    "\n",
    "factorial(1) ➞ 1\n",
    "\n",
    "factorial(0) ➞ 1"
   ]
  },
  {
   "cell_type": "code",
   "execution_count": 20,
   "id": "b6b21d9d",
   "metadata": {},
   "outputs": [],
   "source": [
    "def fact(n):\n",
    "    if n==0:\n",
    "        return 1\n",
    "    else:\n",
    "        return n*fact(n-1)\n"
   ]
  },
  {
   "cell_type": "code",
   "execution_count": 22,
   "id": "2a387536",
   "metadata": {},
   "outputs": [
    {
     "data": {
      "text/plain": [
       "120"
      ]
     },
     "execution_count": 22,
     "metadata": {},
     "output_type": "execute_result"
    }
   ],
   "source": [
    "fact(5)"
   ]
  },
  {
   "cell_type": "markdown",
   "id": "77f19e6e",
   "metadata": {},
   "source": [
    "Question 5 Hamming distance is the number of characters that differ between two strings.\n",
    "\n",
    "To illustrate:\n",
    "\n",
    "String1: &quot;abcbba&quot;\n",
    "\n",
    "String2: &quot;abcbda&quot;\n",
    "\n",
    "Hamming Distance: 1 - &quot;b&quot; vs. &quot;d&quot; is the only difference.\n",
    "\n",
    "Create a function that computes the hamming distance between two strings.\n",
    "\n",
    "Examples\n",
    "\n",
    "hamming_distance(&quot;abcde&quot;, &quot;bcdef&quot;) ➞ 5\n",
    "\n",
    "hamming_distance(&quot;abcde&quot;, &quot;abcde&quot;) ➞ 0\n",
    "\n",
    "hamming_distance(&quot;strong&quot;, &quot;strung&quot;) ➞ 1"
   ]
  },
  {
   "cell_type": "code",
   "execution_count": 27,
   "id": "08dd885e",
   "metadata": {},
   "outputs": [],
   "source": [
    "\n",
    "def hamming_dist(s,t):\n",
    "    count=0\n",
    "    if len(s)==len(t):\n",
    "        for i in range(len(s)):\n",
    "            if s[i]!=t[i]:\n",
    "                count+=1\n",
    "    else:\n",
    "        return \"Strings are not of equal length.\"\n",
    "    return count"
   ]
  },
  {
   "cell_type": "code",
   "execution_count": 30,
   "id": "498c3c38",
   "metadata": {},
   "outputs": [
    {
     "data": {
      "text/plain": [
       "1"
      ]
     },
     "execution_count": 30,
     "metadata": {},
     "output_type": "execute_result"
    }
   ],
   "source": [
    "hamming_dist(\"strong\", \"strung\")"
   ]
  },
  {
   "cell_type": "code",
   "execution_count": null,
   "id": "7bb04a6f",
   "metadata": {},
   "outputs": [],
   "source": []
  },
  {
   "cell_type": "code",
   "execution_count": null,
   "id": "2cf9dab9",
   "metadata": {},
   "outputs": [],
   "source": []
  },
  {
   "cell_type": "code",
   "execution_count": null,
   "id": "918318dc",
   "metadata": {},
   "outputs": [],
   "source": []
  },
  {
   "cell_type": "code",
   "execution_count": null,
   "id": "be08e507",
   "metadata": {},
   "outputs": [],
   "source": []
  },
  {
   "cell_type": "code",
   "execution_count": null,
   "id": "617200ad",
   "metadata": {},
   "outputs": [],
   "source": []
  },
  {
   "cell_type": "code",
   "execution_count": null,
   "id": "160b5a79",
   "metadata": {},
   "outputs": [],
   "source": []
  },
  {
   "cell_type": "code",
   "execution_count": null,
   "id": "b4e27e0b",
   "metadata": {},
   "outputs": [],
   "source": []
  },
  {
   "cell_type": "code",
   "execution_count": null,
   "id": "a60cb8b2",
   "metadata": {},
   "outputs": [],
   "source": []
  },
  {
   "cell_type": "code",
   "execution_count": null,
   "id": "abb44fba",
   "metadata": {},
   "outputs": [],
   "source": []
  },
  {
   "cell_type": "code",
   "execution_count": null,
   "id": "d846505d",
   "metadata": {},
   "outputs": [],
   "source": []
  }
 ],
 "metadata": {
  "kernelspec": {
   "display_name": "Python 3 (ipykernel)",
   "language": "python",
   "name": "python3"
  },
  "language_info": {
   "codemirror_mode": {
    "name": "ipython",
    "version": 3
   },
   "file_extension": ".py",
   "mimetype": "text/x-python",
   "name": "python",
   "nbconvert_exporter": "python",
   "pygments_lexer": "ipython3",
   "version": "3.9.7"
  }
 },
 "nbformat": 4,
 "nbformat_minor": 5
}
